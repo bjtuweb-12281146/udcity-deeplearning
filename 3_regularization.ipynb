{
 "cells": [
  {
   "cell_type": "markdown",
   "metadata": {
    "colab_type": "text",
    "id": "kR-4eNdK6lYS"
   },
   "source": [
    "Deep Learning\n",
    "=============\n",
    "\n",
    "Assignment 3\n",
    "------------\n",
    "\n",
    "Previously in `2_fullyconnected.ipynb`, you trained a logistic regression and a neural network model.\n",
    "\n",
    "The goal of this assignment is to explore regularization techniques."
   ]
  },
  {
   "cell_type": "code",
   "execution_count": 1,
   "metadata": {
    "cellView": "both",
    "colab": {
     "autoexec": {
      "startup": false,
      "wait_interval": 0
     }
    },
    "colab_type": "code",
    "collapsed": true,
    "id": "JLpLa8Jt7Vu4"
   },
   "outputs": [],
   "source": [
    "# These are all the modules we'll be using later. Make sure you can import them\n",
    "# before proceeding further.\n",
    "from __future__ import print_function\n",
    "import numpy as np\n",
    "import tensorflow as tf\n",
    "from six.moves import cPickle as pickle"
   ]
  },
  {
   "cell_type": "markdown",
   "metadata": {
    "colab_type": "text",
    "id": "1HrCK6e17WzV"
   },
   "source": [
    "First reload the data we generated in `1_notmnist.ipynb`."
   ]
  },
  {
   "cell_type": "code",
   "execution_count": 3,
   "metadata": {
    "cellView": "both",
    "colab": {
     "autoexec": {
      "startup": false,
      "wait_interval": 0
     },
     "output_extras": [
      {
       "item_id": 1
      }
     ]
    },
    "colab_type": "code",
    "executionInfo": {
     "elapsed": 11777,
     "status": "ok",
     "timestamp": 1449849322348,
     "user": {
      "color": "",
      "displayName": "",
      "isAnonymous": false,
      "isMe": true,
      "permissionId": "",
      "photoUrl": "",
      "sessionId": "0",
      "userId": ""
     },
     "user_tz": 480
    },
    "id": "y3-cj1bpmuxc",
    "outputId": "e03576f1-ebbe-4838-c388-f1777bcc9873"
   },
   "outputs": [
    {
     "name": "stdout",
     "output_type": "stream",
     "text": [
      "Training set (200000, 28, 28) (200000,)\n",
      "Validation set (10000, 28, 28) (10000,)\n",
      "Test set (10000, 28, 28) (10000,)\n"
     ]
    }
   ],
   "source": [
    "pickle_file = 'notMNIST.pickle'\n",
    "\n",
    "with open(pickle_file, 'rb') as f:\n",
    "  save = pickle.load(f)\n",
    "  train_dataset = save['train_dataset']\n",
    "  train_labels = save['train_labels']\n",
    "  valid_dataset = save['valid_dataset']\n",
    "  valid_labels = save['valid_labels']\n",
    "  test_dataset = save['test_dataset']\n",
    "  test_labels = save['test_labels']\n",
    "  del save  # hint to help gc free up memory\n",
    "  print('Training set', train_dataset.shape, train_labels.shape)\n",
    "  print('Validation set', valid_dataset.shape, valid_labels.shape)\n",
    "  print('Test set', test_dataset.shape, test_labels.shape)"
   ]
  },
  {
   "cell_type": "markdown",
   "metadata": {
    "colab_type": "text",
    "id": "L7aHrm6nGDMB"
   },
   "source": [
    "Reformat into a shape that's more adapted to the models we're going to train:\n",
    "- data as a flat matrix,\n",
    "- labels as float 1-hot encodings."
   ]
  },
  {
   "cell_type": "code",
   "execution_count": 6,
   "metadata": {
    "cellView": "both",
    "colab": {
     "autoexec": {
      "startup": false,
      "wait_interval": 0
     },
     "output_extras": [
      {
       "item_id": 1
      }
     ]
    },
    "colab_type": "code",
    "executionInfo": {
     "elapsed": 11728,
     "status": "ok",
     "timestamp": 1449849322356,
     "user": {
      "color": "",
      "displayName": "",
      "isAnonymous": false,
      "isMe": true,
      "permissionId": "",
      "photoUrl": "",
      "sessionId": "0",
      "userId": ""
     },
     "user_tz": 480
    },
    "id": "IRSyYiIIGIzS",
    "outputId": "3f8996ee-3574-4f44-c953-5c8a04636582"
   },
   "outputs": [
    {
     "name": "stdout",
     "output_type": "stream",
     "text": [
      "Training set (200000, 784) (200000, 10)\n",
      "Validation set (10000, 784) (10000, 10)\n",
      "Test set (10000, 784) (10000, 10)\n"
     ]
    }
   ],
   "source": [
    "image_size = 28\n",
    "num_labels = 10\n",
    "\n",
    "def reformat(dataset, labels):\n",
    "  dataset = dataset.reshape((-1, image_size * image_size)).astype(np.float32)\n",
    "  # Map 1 to [0.0, 1.0, 0.0 ...], 2 to [0.0, 0.0, 1.0 ...]\n",
    "  labels = (np.arange(num_labels) == labels[:,None]).astype(np.float32)\n",
    "  return dataset, labels\n",
    "train_dataset, train_labels = reformat(train_dataset, train_labels)\n",
    "valid_dataset, valid_labels = reformat(valid_dataset, valid_labels)\n",
    "test_dataset, test_labels = reformat(test_dataset, test_labels)\n",
    "print('Training set', train_dataset.shape, train_labels.shape)\n",
    "print('Validation set', valid_dataset.shape, valid_labels.shape)\n",
    "print('Test set', test_dataset.shape, test_labels.shape)"
   ]
  },
  {
   "cell_type": "code",
   "execution_count": 54,
   "metadata": {
    "cellView": "both",
    "colab": {
     "autoexec": {
      "startup": false,
      "wait_interval": 0
     }
    },
    "colab_type": "code",
    "collapsed": true,
    "id": "RajPLaL_ZW6w"
   },
   "outputs": [],
   "source": [
    "def accuracy(predictions, labels):\n",
    "  return (100.0 * np.sum(np.argmax(predictions, 1) == np.argmax(labels, 1))\n",
    "          / predictions.shape[0])"
   ]
  },
  {
   "cell_type": "markdown",
   "metadata": {
    "colab_type": "text",
    "id": "sgLbUAQ1CW-1"
   },
   "source": [
    "---\n",
    "Problem 1\n",
    "---------\n",
    "\n",
    "Introduce and tune L2 regularization for both logistic and neural network models. Remember that L2 amounts to adding a penalty on the norm of the weights to the loss. In TensorFlow, you can compute the L2 loss for a tensor `t` using `nn.l2_loss(t)`. The right amount of regularization should improve your validation / test accuracy.\n",
    "\n",
    "---"
   ]
  },
  {
   "cell_type": "code",
   "execution_count": 93,
   "metadata": {},
   "outputs": [],
   "source": [
    "batch_size = 10\n",
    "layer1_depth = 1024\n",
    "lambda1 = 0.01\n",
    "lambda2 = 0.0\n",
    "\n",
    "graph = tf.Graph()\n",
    "with graph.as_default():\n",
    "    tf_train_data = tf.placeholder(shape=[batch_size,image_size*image_size],dtype=tf.float32)\n",
    "    tf_train_labels = tf.placeholder(shape=[batch_size,num_labels],dtype=tf.float32)\n",
    "    tf_validation_data = tf.constant(valid_dataset)\n",
    "    tf_test_data = tf.constant(test_dataset)\n",
    "    \n",
    "    weights = tf.Variable(tf.truncated_normal([image_size*image_size,layer1_depth]))\n",
    "    bias = tf.Variable(tf.zeros(layer1_depth))\n",
    "    activation1 = tf.nn.relu(tf.matmul(tf_train_data,weights) + bias)\n",
    "    weights2 = tf.Variable(tf.truncated_normal([layer1_depth,num_labels]))\n",
    "    bias2 = tf.Variable(tf.zeros(num_labels))\n",
    "    logits = tf.matmul(activation1,weights2)+bias2\n",
    "    \n",
    "    \n",
    "    loss = tf.reduce_mean(\n",
    "        tf.nn.softmax_cross_entropy_with_logits(labels=tf_train_labels,logits=logits) + \n",
    "        lambda1*(tf.nn.l2_loss(weights) + tf.nn.l2_loss(weights2))\n",
    "    )\n",
    "                       \n",
    "    optimizer = tf.train.GradientDescentOptimizer(0.5).minimize(loss)\n",
    "    \n",
    "    train_prediction = tf.nn.softmax(logits)\n",
    "    validation_prediction = tf.nn.softmax(\n",
    "    tf.matmul(\n",
    "            tf.nn.relu(tf.matmul(tf_validation_data,weights)+bias+lambda1*tf.nn.l2_loss(weights)),weights2\n",
    "            )+bias2+lambda2*tf.nn.l2_loss(weights2)\n",
    "    )\n",
    "    \n",
    "    test_prediction = tf.nn.softmax(\n",
    "    tf.matmul(\n",
    "            tf.nn.relu(tf.matmul(tf_test_data,weights)+bias+lambda1*tf.nn.l2_loss(weights)),weights2\n",
    "            )+bias2+lambda2*tf.nn.l2_loss(weights2)\n",
    "        )\n",
    "    "
   ]
  },
  {
   "cell_type": "code",
   "execution_count": 98,
   "metadata": {},
   "outputs": [
    {
     "name": "stdout",
     "output_type": "stream",
     "text": [
      "Loss at step 0 is 3479.981201171875:\n",
      "mini batch accuracy:20.0\n",
      "validation accuracy:10.0\n",
      "Loss at step 500 is 187.0621337890625:\n",
      "mini batch accuracy:30.0\n",
      "validation accuracy:16.27\n",
      "Loss at step 1000 is 2.2968125343322754:\n",
      "mini batch accuracy:70.0\n",
      "validation accuracy:65.39\n",
      "Loss at step 1500 is 1.012149453163147:\n",
      "mini batch accuracy:70.0\n",
      "validation accuracy:66.02\n",
      "Loss at step 2000 is 1.3889023065567017:\n",
      "mini batch accuracy:50.0\n",
      "validation accuracy:57.41\n",
      "Loss at step 2500 is 1.5042996406555176:\n",
      "mini batch accuracy:70.0\n",
      "validation accuracy:58.88\n",
      "Loss at step 3000 is 0.9365217089653015:\n",
      "mini batch accuracy:80.0\n",
      "validation accuracy:59.35\n",
      "Loss at step 3500 is 1.3343483209609985:\n",
      "mini batch accuracy:70.0\n",
      "validation accuracy:65.6\n",
      "Loss at step 4000 is 2.036003828048706:\n",
      "mini batch accuracy:30.0\n",
      "validation accuracy:59.83\n",
      "Loss at step 4500 is 2.0993194580078125:\n",
      "mini batch accuracy:40.0\n",
      "validation accuracy:63.77\n",
      "Loss at step 5000 is 1.7451015710830688:\n",
      "mini batch accuracy:50.0\n",
      "validation accuracy:45.76\n",
      "Loss at step 5500 is 1.6551427841186523:\n",
      "mini batch accuracy:50.0\n",
      "validation accuracy:57.49\n",
      "Loss at step 6000 is 1.6800111532211304:\n",
      "mini batch accuracy:60.0\n",
      "validation accuracy:62.52\n",
      "Test accuracy:68.34\n"
     ]
    }
   ],
   "source": [
    "train_loop = 6001\n",
    "train_dataset_size = train_dataset.shape[0]\n",
    "\n",
    "with tf.Session(graph=graph) as session:\n",
    "    tf.global_variables_initializer().run()\n",
    "    for step in range(train_loop):\n",
    "        offset = (batch_size*step)%(train_dataset_size-batch_size)\n",
    "        tf_train_batch_data = train_dataset[offset:offset+batch_size,:]\n",
    "        tf_train_batch_labels = train_labels[offset:offset+batch_size,:]\n",
    "#         print(tf_train_batch_labels.shape)\n",
    "        \n",
    "        feed_dict = {tf_train_data:tf_train_batch_data,tf_train_labels:tf_train_batch_labels}\n",
    "        \n",
    "        _,l,prediction = session.run([optimizer,loss,train_prediction], feed_dict=feed_dict)\n",
    "        \n",
    "        if step%500 == 0:\n",
    "            print(\"Loss at step {} is {}:\".format(step,l) )\n",
    "#             print(prediction.shape, tf_train_batch_labels.shape)\n",
    "            print(\"mini batch accuracy:{}\".format(accuracy(prediction,tf_train_batch_labels)))\n",
    "            print(\"validation accuracy:{}\".format(accuracy(validation_prediction.eval(),valid_labels)))\n",
    "    print(\"Test accuracy:{}\".format(accuracy(test_prediction.eval(),test_labels)))"
   ]
  },
  {
   "cell_type": "markdown",
   "metadata": {
    "colab_type": "text",
    "id": "na8xX2yHZzNF"
   },
   "source": [
    "---\n",
    "Problem 2\n",
    "---------\n",
    "Let's demonstrate an extreme case of overfitting. Restrict your training data to just a few batches. What happens?\n",
    "\n",
    "---"
   ]
  },
  {
   "cell_type": "markdown",
   "metadata": {
    "colab_type": "text",
    "id": "ww3SCBUdlkRc"
   },
   "source": [
    "---\n",
    "Problem 3\n",
    "---------\n",
    "Introduce Dropout on the hidden layer of the neural network. Remember: Dropout should only be introduced during training, not evaluation, otherwise your evaluation results would be stochastic as well. TensorFlow provides `nn.dropout()` for that, but you have to make sure it's only inserted during training.\n",
    "\n",
    "What happens to our extreme overfitting case?\n",
    "\n",
    "---"
   ]
  },
  {
   "cell_type": "code",
   "execution_count": null,
   "metadata": {
    "collapsed": true
   },
   "outputs": [],
   "source": [
    "batch_size = 10\n",
    "layer1_depth = 1024\n",
    "lambda1 = 0.01\n",
    "lambda2 = 0.0\n",
    "\n",
    "graph = tf.Graph()\n",
    "with graph.as_default():\n",
    "    tf_train_data = tf.placeholder(shape=[batch_size,image_size*image_size],dtype=tf.float32)\n",
    "    tf_train_labels = tf.placeholder(shape=[batch_size,num_labels],dtype=tf.float32)\n",
    "    tf_validation_data = tf.constant(valid_dataset)\n",
    "    tf_test_data = tf.constant(test_dataset)\n",
    "    \n",
    "    weights = tf.Variable(tf.truncated_normal([image_size*image_size,layer1_depth]))\n",
    "    bias = tf.Variable(tf.zeros(layer1_depth))\n",
    "    activation1 = tf.nn.relu(tf.matmul(tf_train_data,weights) + bias)\n",
    "    \n",
    "    \n",
    "    weights2 = tf.Variable(tf.truncated_normal([layer1_depth,num_labels]))\n",
    "    bias2 = tf.Variable(tf.zeros(num_labels))\n",
    "    logits = tf.matmul(activation1,weights2)+bias2\n",
    "    \n",
    "    \n",
    "    loss = tf.reduce_mean(\n",
    "        tf.nn.softmax_cross_entropy_with_logits(labels=tf_train_labels,logits=logits) + \n",
    "        lambda1*(tf.nn.l2_loss(weights) + tf.nn.l2_loss(weights2))\n",
    "    )\n",
    "                       \n",
    "    optimizer = tf.train.GradientDescentOptimizer(0.5).minimize(loss)\n",
    "    \n",
    "    train_prediction = tf.nn.softmax(logits)\n",
    "    validation_prediction = tf.nn.softmax(\n",
    "    tf.matmul(\n",
    "            tf.nn.relu(tf.matmul(tf_validation_data,weights)+bias+lambda1*tf.nn.l2_loss(weights)),weights2\n",
    "            )+bias2+lambda2*tf.nn.l2_loss(weights2)\n",
    "    )\n",
    "    \n",
    "    test_prediction = tf.nn.softmax(\n",
    "    tf.matmul(\n",
    "            tf.nn.relu(tf.matmul(tf_test_data,weights)+bias+lambda1*tf.nn.l2_loss(weights)),weights2\n",
    "            )+bias2+lambda2*tf.nn.l2_loss(weights2)\n",
    "        )\n",
    "    "
   ]
  },
  {
   "cell_type": "markdown",
   "metadata": {
    "colab_type": "text",
    "id": "-b1hTz3VWZjw"
   },
   "source": [
    "---\n",
    "Problem 4\n",
    "---------\n",
    "\n",
    "Try to get the best performance you can using a multi-layer model! The best reported test accuracy using a deep network is [97.1%](http://yaroslavvb.blogspot.com/2011/09/notmnist-dataset.html?showComment=1391023266211#c8758720086795711595).\n",
    "\n",
    "One avenue you can explore is to add multiple layers.\n",
    "\n",
    "Another one is to use learning rate decay:\n",
    "\n",
    "    global_step = tf.Variable(0)  # count the number of steps taken.\n",
    "    learning_rate = tf.train.exponential_decay(0.5, global_step, ...)\n",
    "    optimizer = tf.train.GradientDescentOptimizer(learning_rate).minimize(loss, global_step=global_step)\n",
    " \n",
    " ---\n"
   ]
  },
  {
   "cell_type": "code",
   "execution_count": null,
   "metadata": {
    "collapsed": true
   },
   "outputs": [],
   "source": []
  }
 ],
 "metadata": {
  "colab": {
   "default_view": {},
   "name": "3_regularization.ipynb",
   "provenance": [],
   "version": "0.3.2",
   "views": {}
  },
  "kernelspec": {
   "display_name": "Python [default]",
   "language": "python",
   "name": "python3"
  },
  "language_info": {
   "codemirror_mode": {
    "name": "ipython",
    "version": 3
   },
   "file_extension": ".py",
   "mimetype": "text/x-python",
   "name": "python",
   "nbconvert_exporter": "python",
   "pygments_lexer": "ipython3",
   "version": "3.5.3"
  }
 },
 "nbformat": 4,
 "nbformat_minor": 1
}
